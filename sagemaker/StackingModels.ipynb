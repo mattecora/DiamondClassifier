{
 "cells": [
  {
   "cell_type": "code",
   "execution_count": 1,
   "id": "e42dd3c5",
   "metadata": {},
   "outputs": [
    {
     "name": "stdout",
     "output_type": "stream",
     "text": [
      "Collecting imblearn\n",
      "  Downloading imblearn-0.0-py2.py3-none-any.whl (1.9 kB)\n",
      "Collecting imbalanced-learn\n",
      "  Downloading imbalanced_learn-0.8.0-py3-none-any.whl (206 kB)\n",
      "\u001b[K     |████████████████████████████████| 206 kB 15.9 MB/s eta 0:00:01\n",
      "\u001b[?25hRequirement already satisfied: numpy>=1.13.3 in /home/ec2-user/anaconda3/envs/python3/lib/python3.6/site-packages (from imbalanced-learn->imblearn) (1.19.5)\n",
      "Requirement already satisfied: scikit-learn>=0.24 in /home/ec2-user/anaconda3/envs/python3/lib/python3.6/site-packages (from imbalanced-learn->imblearn) (0.24.1)\n",
      "Requirement already satisfied: scipy>=0.19.1 in /home/ec2-user/anaconda3/envs/python3/lib/python3.6/site-packages (from imbalanced-learn->imblearn) (1.5.3)\n",
      "Requirement already satisfied: joblib>=0.11 in /home/ec2-user/anaconda3/envs/python3/lib/python3.6/site-packages (from imbalanced-learn->imblearn) (1.0.1)\n",
      "Requirement already satisfied: threadpoolctl>=2.0.0 in /home/ec2-user/anaconda3/envs/python3/lib/python3.6/site-packages (from scikit-learn>=0.24->imbalanced-learn->imblearn) (2.1.0)\n",
      "Installing collected packages: imbalanced-learn, imblearn\n",
      "Successfully installed imbalanced-learn-0.8.0 imblearn-0.0\n",
      "\u001b[33mWARNING: You are using pip version 21.1.2; however, version 21.1.3 is available.\n",
      "You should consider upgrading via the '/home/ec2-user/anaconda3/envs/python3/bin/python -m pip install --upgrade pip' command.\u001b[0m\n"
     ]
    }
   ],
   "source": [
    "!pip install imblearn"
   ]
  },
  {
   "cell_type": "code",
   "execution_count": 22,
   "id": "401b6fed",
   "metadata": {},
   "outputs": [],
   "source": [
    "import pandas as pd\n",
    "import numpy as np\n",
    "from matplotlib import pyplot as plt \n",
    "import seaborn as sns\n",
    "\n",
    "from sklearn.impute import SimpleImputer\n",
    "from sklearn.preprocessing import LabelEncoder, OrdinalEncoder\n",
    "\n",
    "from sklearn.model_selection import train_test_split\n",
    "from sklearn.preprocessing import StandardScaler\n",
    "from sklearn.decomposition import PCA\n",
    "import time\n",
    "\n",
    "# Classifiers\n",
    "from sklearn.svm import SVC\n",
    "from sklearn.neural_network import MLPClassifier\n",
    "from sklearn.neighbors import KNeighborsClassifier\n",
    "from sklearn.gaussian_process import GaussianProcessClassifier\n",
    "from sklearn.ensemble import GradientBoostingClassifier\n",
    "from sklearn.tree import DecisionTreeClassifier\n",
    "from sklearn.linear_model import SGDClassifier\n",
    "\n",
    "from sklearn.model_selection import RepeatedStratifiedKFold\n",
    "\n",
    "from sklearn.metrics import f1_score, accuracy_score, precision_score, recall_score, classification_report\n",
    "from sklearn.metrics import plot_confusion_matrix\n",
    "from imblearn.pipeline import make_pipeline\n",
    "\n",
    "from imblearn.under_sampling import EditedNearestNeighbours\n",
    "from imblearn.over_sampling import SMOTE, RandomOverSampler, ADASYN\n",
    "\n",
    "%matplotlib inline\n",
    "\n",
    "import sys\n",
    "sys.path.append(\"..\")\n",
    "from CustomTransformer import CustomTransformer\n",
    "\n",
    "from numpy import mean\n",
    "from numpy import std\n",
    "from sklearn.model_selection import cross_val_score\n",
    "from sklearn.model_selection import RepeatedStratifiedKFold\n",
    "from sklearn.linear_model import LogisticRegression\n",
    "from sklearn.ensemble import StackingClassifier\n",
    "\n",
    "from imblearn.pipeline import Pipeline\n",
    "from sklearn.model_selection import GridSearchCV\n",
    "from imblearn.pipeline import make_pipeline"
   ]
  },
  {
   "cell_type": "code",
   "execution_count": 40,
   "id": "01b4955d",
   "metadata": {},
   "outputs": [],
   "source": [
    "import os \n",
    "os.chdir(\"../\")\n",
    "bucket = 'aws-project-politomaster-sagemaker-data' "
   ]
  },
  {
   "cell_type": "markdown",
   "id": "15dd2c6b",
   "metadata": {},
   "source": [
    "# Import the pre-processed datasets"
   ]
  },
  {
   "cell_type": "code",
   "execution_count": 41,
   "id": "44f8273e",
   "metadata": {},
   "outputs": [
    {
     "name": "stdout",
     "output_type": "stream",
     "text": [
      "Prep_train dataset has: 43170 rows and 10 columns\n"
     ]
    },
    {
     "data": {
      "text/html": [
       "<div>\n",
       "<style scoped>\n",
       "    .dataframe tbody tr th:only-of-type {\n",
       "        vertical-align: middle;\n",
       "    }\n",
       "\n",
       "    .dataframe tbody tr th {\n",
       "        vertical-align: top;\n",
       "    }\n",
       "\n",
       "    .dataframe thead th {\n",
       "        text-align: right;\n",
       "    }\n",
       "</style>\n",
       "<table border=\"1\" class=\"dataframe\">\n",
       "  <thead>\n",
       "    <tr style=\"text-align: right;\">\n",
       "      <th></th>\n",
       "      <th>carat_class</th>\n",
       "      <th>cut</th>\n",
       "      <th>color</th>\n",
       "      <th>clarity</th>\n",
       "      <th>depth</th>\n",
       "      <th>table</th>\n",
       "      <th>price</th>\n",
       "      <th>x</th>\n",
       "      <th>y</th>\n",
       "      <th>z</th>\n",
       "    </tr>\n",
       "  </thead>\n",
       "  <tbody>\n",
       "    <tr>\n",
       "      <th>0</th>\n",
       "      <td>0</td>\n",
       "      <td>4</td>\n",
       "      <td>5</td>\n",
       "      <td>1</td>\n",
       "      <td>61.746807</td>\n",
       "      <td>54.834605</td>\n",
       "      <td>651.357414</td>\n",
       "      <td>5.350743</td>\n",
       "      <td>4.352193</td>\n",
       "      <td>2.667488</td>\n",
       "    </tr>\n",
       "    <tr>\n",
       "      <th>1</th>\n",
       "      <td>0</td>\n",
       "      <td>3</td>\n",
       "      <td>5</td>\n",
       "      <td>2</td>\n",
       "      <td>60.811398</td>\n",
       "      <td>60.300733</td>\n",
       "      <td>651.357414</td>\n",
       "      <td>5.350743</td>\n",
       "      <td>4.352193</td>\n",
       "      <td>2.667488</td>\n",
       "    </tr>\n",
       "    <tr>\n",
       "      <th>2</th>\n",
       "      <td>0</td>\n",
       "      <td>1</td>\n",
       "      <td>5</td>\n",
       "      <td>4</td>\n",
       "      <td>59.799569</td>\n",
       "      <td>60.300733</td>\n",
       "      <td>651.357414</td>\n",
       "      <td>5.350743</td>\n",
       "      <td>4.352193</td>\n",
       "      <td>2.667488</td>\n",
       "    </tr>\n",
       "    <tr>\n",
       "      <th>3</th>\n",
       "      <td>0</td>\n",
       "      <td>3</td>\n",
       "      <td>1</td>\n",
       "      <td>3</td>\n",
       "      <td>62.110048</td>\n",
       "      <td>57.770527</td>\n",
       "      <td>651.357414</td>\n",
       "      <td>5.350743</td>\n",
       "      <td>4.352193</td>\n",
       "      <td>2.667488</td>\n",
       "    </tr>\n",
       "    <tr>\n",
       "      <th>4</th>\n",
       "      <td>0</td>\n",
       "      <td>1</td>\n",
       "      <td>0</td>\n",
       "      <td>1</td>\n",
       "      <td>63.367713</td>\n",
       "      <td>58.202601</td>\n",
       "      <td>651.357414</td>\n",
       "      <td>5.350743</td>\n",
       "      <td>4.352193</td>\n",
       "      <td>2.899670</td>\n",
       "    </tr>\n",
       "  </tbody>\n",
       "</table>\n",
       "</div>"
      ],
      "text/plain": [
       "   carat_class  cut  color  clarity      depth      table       price  \\\n",
       "0            0    4      5        1  61.746807  54.834605  651.357414   \n",
       "1            0    3      5        2  60.811398  60.300733  651.357414   \n",
       "2            0    1      5        4  59.799569  60.300733  651.357414   \n",
       "3            0    3      1        3  62.110048  57.770527  651.357414   \n",
       "4            0    1      0        1  63.367713  58.202601  651.357414   \n",
       "\n",
       "          x         y         z  \n",
       "0  5.350743  4.352193  2.667488  \n",
       "1  5.350743  4.352193  2.667488  \n",
       "2  5.350743  4.352193  2.667488  \n",
       "3  5.350743  4.352193  2.667488  \n",
       "4  5.350743  4.352193  2.899670  "
      ]
     },
     "execution_count": 41,
     "metadata": {},
     "output_type": "execute_result"
    }
   ],
   "source": [
    "prep_train_path = os.path.join('s3://', bucket, 'preprocess/prep_train.csv')\n",
    "prep_train = pd.read_csv(prep_train_path)\n",
    "print(\"Prep_train dataset has: {} rows and {} columns\".format(prep_train.shape[0], prep_train.shape[1]))\n",
    "prep_train.head()"
   ]
  },
  {
   "cell_type": "code",
   "execution_count": 42,
   "id": "7eff2596",
   "metadata": {},
   "outputs": [
    {
     "name": "stdout",
     "output_type": "stream",
     "text": [
      "Prep_test dataset has: 10770 rows and 10 columns\n"
     ]
    },
    {
     "data": {
      "text/html": [
       "<div>\n",
       "<style scoped>\n",
       "    .dataframe tbody tr th:only-of-type {\n",
       "        vertical-align: middle;\n",
       "    }\n",
       "\n",
       "    .dataframe tbody tr th {\n",
       "        vertical-align: top;\n",
       "    }\n",
       "\n",
       "    .dataframe thead th {\n",
       "        text-align: right;\n",
       "    }\n",
       "</style>\n",
       "<table border=\"1\" class=\"dataframe\">\n",
       "  <thead>\n",
       "    <tr style=\"text-align: right;\">\n",
       "      <th></th>\n",
       "      <th>carat_class</th>\n",
       "      <th>cut</th>\n",
       "      <th>color</th>\n",
       "      <th>clarity</th>\n",
       "      <th>depth</th>\n",
       "      <th>table</th>\n",
       "      <th>price</th>\n",
       "      <th>x</th>\n",
       "      <th>y</th>\n",
       "      <th>z</th>\n",
       "    </tr>\n",
       "  </thead>\n",
       "  <tbody>\n",
       "    <tr>\n",
       "      <th>0</th>\n",
       "      <td>0</td>\n",
       "      <td>4</td>\n",
       "      <td>5</td>\n",
       "      <td>1</td>\n",
       "      <td>61.746807</td>\n",
       "      <td>54.834605</td>\n",
       "      <td>651.357414</td>\n",
       "      <td>5.350743</td>\n",
       "      <td>4.352193</td>\n",
       "      <td>2.667488</td>\n",
       "    </tr>\n",
       "    <tr>\n",
       "      <th>1</th>\n",
       "      <td>0</td>\n",
       "      <td>3</td>\n",
       "      <td>5</td>\n",
       "      <td>2</td>\n",
       "      <td>60.811398</td>\n",
       "      <td>60.300733</td>\n",
       "      <td>651.357414</td>\n",
       "      <td>5.350743</td>\n",
       "      <td>4.352193</td>\n",
       "      <td>2.667488</td>\n",
       "    </tr>\n",
       "    <tr>\n",
       "      <th>2</th>\n",
       "      <td>0</td>\n",
       "      <td>1</td>\n",
       "      <td>5</td>\n",
       "      <td>4</td>\n",
       "      <td>59.799569</td>\n",
       "      <td>60.300733</td>\n",
       "      <td>651.357414</td>\n",
       "      <td>5.350743</td>\n",
       "      <td>4.352193</td>\n",
       "      <td>2.667488</td>\n",
       "    </tr>\n",
       "    <tr>\n",
       "      <th>3</th>\n",
       "      <td>0</td>\n",
       "      <td>3</td>\n",
       "      <td>1</td>\n",
       "      <td>3</td>\n",
       "      <td>62.110048</td>\n",
       "      <td>57.770527</td>\n",
       "      <td>651.357414</td>\n",
       "      <td>5.350743</td>\n",
       "      <td>4.352193</td>\n",
       "      <td>2.667488</td>\n",
       "    </tr>\n",
       "    <tr>\n",
       "      <th>4</th>\n",
       "      <td>0</td>\n",
       "      <td>1</td>\n",
       "      <td>0</td>\n",
       "      <td>1</td>\n",
       "      <td>63.367713</td>\n",
       "      <td>58.202601</td>\n",
       "      <td>651.357414</td>\n",
       "      <td>5.350743</td>\n",
       "      <td>4.352193</td>\n",
       "      <td>2.899670</td>\n",
       "    </tr>\n",
       "  </tbody>\n",
       "</table>\n",
       "</div>"
      ],
      "text/plain": [
       "   carat_class  cut  color  clarity      depth      table       price  \\\n",
       "0            0    4      5        1  61.746807  54.834605  651.357414   \n",
       "1            0    3      5        2  60.811398  60.300733  651.357414   \n",
       "2            0    1      5        4  59.799569  60.300733  651.357414   \n",
       "3            0    3      1        3  62.110048  57.770527  651.357414   \n",
       "4            0    1      0        1  63.367713  58.202601  651.357414   \n",
       "\n",
       "          x         y         z  \n",
       "0  5.350743  4.352193  2.667488  \n",
       "1  5.350743  4.352193  2.667488  \n",
       "2  5.350743  4.352193  2.667488  \n",
       "3  5.350743  4.352193  2.667488  \n",
       "4  5.350743  4.352193  2.899670  "
      ]
     },
     "execution_count": 42,
     "metadata": {},
     "output_type": "execute_result"
    }
   ],
   "source": [
    "prep_test_path = os.path.join('s3://', bucket, 'preprocess/prep_test.csv')\n",
    "prep_test = pd.read_csv(prep_test_path)\n",
    "print(\"Prep_test dataset has: {} rows and {} columns\".format(prep_test.shape[0], prep_test.shape[1]))\n",
    "prep_train.head()"
   ]
  },
  {
   "cell_type": "markdown",
   "id": "da844c33",
   "metadata": {},
   "source": [
    "# Split the training set into train and validation"
   ]
  },
  {
   "cell_type": "code",
   "execution_count": 43,
   "id": "08d65e14",
   "metadata": {},
   "outputs": [],
   "source": [
    "seed = 0\n",
    "\n",
    "target = prep_train['carat_class']\n",
    "data = prep_train.drop(labels = ['carat_class'],axis = 1)\n",
    "sample_train, sample_val, label_train, label_val = \\\n",
    "    train_test_split(data, target, test_size=0.3, random_state=seed)"
   ]
  },
  {
   "cell_type": "markdown",
   "id": "492d2ad6",
   "metadata": {},
   "source": [
    "# Define some simple test models"
   ]
  },
  {
   "cell_type": "code",
   "execution_count": 44,
   "id": "f3e46763",
   "metadata": {},
   "outputs": [],
   "source": [
    "def get_models():\n",
    "    models = dict()\n",
    "    models['knn'] = KNeighborsClassifier()\n",
    "    models['dtc'] = DecisionTreeClassifier()\n",
    "    models['svm'] = SVC(gamma='auto',kernel='rbf', C = 1.0, random_state = seed)\n",
    "    return models"
   ]
  },
  {
   "cell_type": "markdown",
   "id": "daa495b1",
   "metadata": {},
   "source": [
    "# Define an evaluation metric"
   ]
  },
  {
   "cell_type": "code",
   "execution_count": 45,
   "id": "75add6d0",
   "metadata": {},
   "outputs": [],
   "source": [
    "def evaluate_model(model, sample_train, label_train, sample_val, label_val ):\n",
    "    model.fit(sample_train, label_train)\n",
    "    pred = model.predict(sample_val)\n",
    "    report = classification_report(label_val,pred, output_dict = True)\n",
    "    scores = report['accuracy']\n",
    "    return scores"
   ]
  },
  {
   "cell_type": "code",
   "execution_count": 46,
   "id": "47d36711",
   "metadata": {},
   "outputs": [],
   "source": [
    "custom_transf = CustomTransformer()\n",
    "std_scale = StandardScaler()\n",
    "pca = PCA(n_components=8)\n",
    "enn = EditedNearestNeighbours()"
   ]
  },
  {
   "cell_type": "markdown",
   "id": "4b308282",
   "metadata": {},
   "source": [
    "# Evaluate models"
   ]
  },
  {
   "cell_type": "code",
   "execution_count": 48,
   "id": "8fbfcb1e",
   "metadata": {},
   "outputs": [
    {
     "name": "stdout",
     "output_type": "stream",
     "text": [
      ">knn 0.983862\n",
      ">dtc 0.986333\n",
      ">svm 0.986256\n"
     ]
    }
   ],
   "source": [
    "# get the models to evaluate\n",
    "models = get_models()\n",
    "# evaluate the models and store results\n",
    "results, names = list(), list()\n",
    "\n",
    "for name, model in models.items():\n",
    "    model_pipe = make_pipeline(custom_transf,std_scale,pca,enn,model)\n",
    "    scores = evaluate_model(model_pipe, sample_train, label_train,  sample_val, label_val)\n",
    "    results.append(scores)\n",
    "    names.append(name)\n",
    "    print('>%s %.6f' % (name, (scores)))"
   ]
  },
  {
   "cell_type": "markdown",
   "id": "1aee07c0",
   "metadata": {},
   "source": [
    "# Define the StackingClassifier \n",
    "Architetture divides as:\n",
    "* Level-0 Models (Base-Models): Models fit on the training data and whose predictions are compiled.\n",
    "* Level-1 Model (Meta-Model): Model that learns how to best combine the predictions of the base models."
   ]
  },
  {
   "cell_type": "code",
   "execution_count": 49,
   "id": "57af3169",
   "metadata": {},
   "outputs": [],
   "source": [
    "# get a stacking ensemble of models\n",
    "def get_stacking():\n",
    "    # define the base models\n",
    "    level0 = list()\n",
    "    level0.append(('knn',KNeighborsClassifier()))\n",
    "    level0.append(('dtc',DecisionTreeClassifier()))\n",
    "    level0.append(('svm',SVC(gamma='auto',kernel='rbf', C = 1.0, random_state = seed)))\n",
    "\n",
    "    # define meta learner model\n",
    "    level1 = LogisticRegression(random_state = seed, max_iter=1000)\n",
    "    # define the stacking ensemble\n",
    "    model = StackingClassifier(estimators=level0, final_estimator=level1, cv=5)\n",
    "    return model"
   ]
  },
  {
   "cell_type": "markdown",
   "id": "628e231d",
   "metadata": {},
   "source": [
    "## Define some models, inluding the StackingClassifier"
   ]
  },
  {
   "cell_type": "code",
   "execution_count": 50,
   "id": "ca58cdad",
   "metadata": {},
   "outputs": [],
   "source": [
    "def get_models():\n",
    "    models = dict()\n",
    "    models['knn'] = KNeighborsClassifier()\n",
    "    models['dtc'] = DecisionTreeClassifier()\n",
    "    models['svm'] = SVC(gamma='auto',kernel='rbf', C = 1.0, random_state = seed)\n",
    "    models['stacking'] = get_stacking()\n",
    "    return models"
   ]
  },
  {
   "cell_type": "markdown",
   "id": "e96e732a",
   "metadata": {},
   "source": [
    "# Test the StackingClassifier"
   ]
  },
  {
   "cell_type": "code",
   "execution_count": 51,
   "id": "1a733ebe",
   "metadata": {},
   "outputs": [
    {
     "name": "stdout",
     "output_type": "stream",
     "text": [
      ">knn 0.983862\n",
      ">dtc 0.986565\n",
      ">svm 0.986256\n",
      ">stacking 0.986796\n"
     ]
    }
   ],
   "source": [
    "# get the models to evaluate\n",
    "models = get_models()\n",
    "# evaluate the models and store results\n",
    "results, names = list(), list()\n",
    "\n",
    "for name, model in models.items():\n",
    "    model_pipe = make_pipeline(custom_transf,std_scale,pca,enn,model)\n",
    "    scores = evaluate_model(model_pipe, sample_train, label_train,  sample_val, label_val)\n",
    "    results.append(scores)\n",
    "    names.append(name)\n",
    "    print('>%s %.6f' % (name, scores))"
   ]
  },
  {
   "cell_type": "markdown",
   "id": "eac43e4e",
   "metadata": {},
   "source": [
    "# Define a StackingClassifier using the best four base models:\n",
    "* Logistic Regression\n",
    "* Decision tree\n",
    "* SVM linear\n",
    "* SGD"
   ]
  },
  {
   "cell_type": "code",
   "execution_count": 52,
   "id": "a8cbcf5d",
   "metadata": {},
   "outputs": [
    {
     "name": "stdout",
     "output_type": "stream",
     "text": [
      ">lr 0.986796\n",
      ">dtc 0.987414\n",
      ">sgd 0.986874\n",
      ">svm 0.987646\n",
      ">stacking 0.988032\n"
     ]
    }
   ],
   "source": [
    "# get a stacking ensemble of models\n",
    "def get_stacking():\n",
    "    # define the base models\n",
    "    level0 = list()\n",
    "    level0.append(('lr', LogisticRegression(C = 1, random_state = seed, max_iter=1000)))\n",
    "    level0.append(('dtc', DecisionTreeClassifier(min_samples_leaf = 5, min_samples_split = 2, random_state = seed)))\n",
    "    level0.append(('svm', SVC(C= 10, kernel = 'linear', random_state = seed)))\n",
    "    level0.append(('sgd', SGDClassifier(alpha = 0.0001, random_state = seed)))\n",
    "    \n",
    "    # define meta learner model\n",
    "    level1 = LogisticRegression(random_state = seed, max_iter=1000)\n",
    "    # define the stacking ensemble\n",
    "    model = StackingClassifier(estimators=level0, final_estimator=level1, cv=5)\n",
    "    return model\n",
    "\n",
    "def get_models():\n",
    "    models = dict()\n",
    "    models['lr'] = LogisticRegression(C = 1, random_state = seed)\n",
    "    models['dtc'] = DecisionTreeClassifier(min_samples_leaf = 5, min_samples_split = 2, random_state = seed)\n",
    "    models['sgd'] = SGDClassifier(alpha = 0.0001, random_state = seed)\n",
    "    models['svm'] = SVC(C= 10, kernel = 'linear', random_state = seed)\n",
    "    models['stacking'] = get_stacking()\n",
    "    return models\n",
    "\n",
    "# get the models to evaluate\n",
    "models = get_models()\n",
    "# evaluate the models and store results\n",
    "results, names = list(), list()\n",
    "\n",
    "t0 = time.time()\n",
    "for name, model in models.items():\n",
    "    model_pipe = make_pipeline(custom_transf,std_scale,pca,enn,model)\n",
    "    scores = evaluate_model(model_pipe, sample_train, label_train,  sample_val, label_val)\n",
    "    results.append(scores)\n",
    "    names.append(name)\n",
    "    print('>%s %.6f' % (name, scores))"
   ]
  },
  {
   "cell_type": "markdown",
   "id": "c7840815",
   "metadata": {},
   "source": [
    "## Best model obtained with the StackingClassifier"
   ]
  },
  {
   "cell_type": "markdown",
   "id": "da377cba",
   "metadata": {},
   "source": [
    "# Test the model"
   ]
  },
  {
   "cell_type": "code",
   "execution_count": 53,
   "id": "37b82405",
   "metadata": {},
   "outputs": [
    {
     "name": "stdout",
     "output_type": "stream",
     "text": [
      "Time required:  30.372031927108765\n",
      "              precision    recall  f1-score   support\n",
      "\n",
      "           0       0.99      0.99      0.99      7602\n",
      "           1       0.98      0.99      0.98      4785\n",
      "           2       0.95      0.96      0.96       564\n",
      "\n",
      "    accuracy                           0.99     12951\n",
      "   macro avg       0.98      0.98      0.98     12951\n",
      "weighted avg       0.99      0.99      0.99     12951\n",
      "\n"
     ]
    },
    {
     "data": {
      "image/png": "[encoded data removed]",
      "text/plain": [
       "<Figure size 576x360 with 2 Axes>"
      ]
     },
     "metadata": {},
     "output_type": "display_data"
    }
   ],
   "source": [
    "clf = get_stacking()\n",
    "\n",
    "t0 = time.time()\n",
    "model = make_pipeline(custom_transf,std_scale, pca, enn, clf)\n",
    "model.fit(sample_train, label_train)\n",
    "pred = model.predict(sample_val)\n",
    "t1 = time.time()\n",
    "print('Time required: ',t1-t0)\n",
    "print(classification_report(label_val,pred))\n",
    "sns.set(rc={'figure.figsize':(8,5)})\n",
    "plot_confusion_matrix(model, sample_val, label_val) \n",
    "plt.show()"
   ]
  },
  {
   "cell_type": "code",
   "execution_count": 54,
   "id": "fcf68c50",
   "metadata": {},
   "outputs": [
    {
     "name": "stderr",
     "output_type": "stream",
     "text": [
      "/home/ec2-user/anaconda3/envs/python3/lib/python3.6/site-packages/sklearn/linear_model/_logistic.py:765: ConvergenceWarning: lbfgs failed to converge (status=1):\n",
      "STOP: TOTAL NO. of ITERATIONS REACHED LIMIT.\n",
      "\n",
      "Increase the number of iterations (max_iter) or scale the data as shown in:\n",
      "    https://scikit-learn.org/stable/modules/preprocessing.html\n",
      "Please also refer to the documentation for alternative solver options:\n",
      "    https://scikit-learn.org/stable/modules/linear_model.html#logistic-regression\n",
      "  extra_warning_msg=_LOGISTIC_SOLVER_CONVERGENCE_MSG)\n"
     ]
    },
    {
     "name": "stdout",
     "output_type": "stream",
     "text": [
      "Time required:  221.10923719406128\n"
     ]
    }
   ],
   "source": [
    "test_target = prep_test['carat_class']\n",
    "test_data = prep_test.drop(labels = ['carat_class'],axis = 1)\n",
    "\n",
    "t0 = time.time()\n",
    "model = make_pipeline(custom_transf,std_scale, pca, enn, clf)\n",
    "model.fit(data, target)\n",
    "pred = model.predict(test_data)\n",
    "t1 = time.time()\n",
    "print('Time required: ',t1-t0)"
   ]
  },
  {
   "cell_type": "code",
   "execution_count": 55,
   "id": "7c9ffee4",
   "metadata": {},
   "outputs": [
    {
     "data": {
      "image/png": "[encoded data removed]",
      "text/plain": [
       "<Figure size 864x432 with 2 Axes>"
      ]
     },
     "metadata": {},
     "output_type": "display_data"
    }
   ],
   "source": [
    "fig,ax = plt.subplots(1,2, figsize = (12,6))\n",
    "sns.countplot(x= target , ax = ax[0]).set_title(\"Target class distribution in Train\")\n",
    "sns.countplot(x= pred , ax = ax[1]).set_title(\"Target class distribution in Test\")\n",
    "plt.show()"
   ]
  }
 ],
 "metadata": {
  "kernelspec": {
   "display_name": "conda_python3",
   "language": "python",
   "name": "conda_python3"
  },
  "language_info": {
   "codemirror_mode": {
    "name": "ipython",
    "version": 3
   },
   "file_extension": ".py",
   "mimetype": "text/x-python",
   "name": "python",
   "nbconvert_exporter": "python",
   "pygments_lexer": "ipython3",
   "version": "3.6.13"
  }
 },
 "nbformat": 4,
 "nbformat_minor": 5
}
